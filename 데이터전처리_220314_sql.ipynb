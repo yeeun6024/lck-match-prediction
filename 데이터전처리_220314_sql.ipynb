{
 "cells": [
  {
   "cell_type": "code",
   "execution_count": 183,
   "metadata": {},
   "outputs": [],
   "source": [
    "import findspark\n",
    "\n",
    "findspark.init()"
   ]
  },
  {
   "cell_type": "code",
   "execution_count": 184,
   "metadata": {},
   "outputs": [],
   "source": [
    "# spark 생성\n",
    "\n",
    "import pyspark\n",
    "from pyspark.sql import SparkSession\n",
    "\n",
    "spark = SparkSession.builder.getOrCreate()"
   ]
  },
  {
   "cell_type": "code",
   "execution_count": 185,
   "metadata": {},
   "outputs": [],
   "source": [
    "match_data = spark.read.csv(\"hdfs://localhost:19000/data/match_data_2.csv\", header=\"true\", inferSchema=\"true\")\n",
    "winrate = spark.read.csv(\"hdfs://localhost:19000/data/winrate.csv\", header=\"true\", inferSchema=\"true\")\n",
    "winrate_team = spark.read.csv(\"hdfs://localhost:19000/data/winrate_team.csv\", header=\"true\", inferSchema=\"true\")\n",
    "winrate_team_recent = spark.read.csv(\"hdfs://localhost:19000/data/winrate_team_recent.csv\", header=\"true\", inferSchema=\"true\")"
   ]
  },
  {
   "cell_type": "code",
   "execution_count": 186,
   "metadata": {},
   "outputs": [
    {
     "name": "stdout",
     "output_type": "stream",
     "text": [
      "+----------+-------------------------+-------------+--------------+------------+---+----------+---------+--------+-----------+----------+--------+---------+------------+----------+---------+------+------+\n",
      "|      date|                    title|        stage|         team1|       team2|win|      top1|      jg1|    mid1|       adc1|      sup1|    top2|      jg2|        mid2|      adc2|     sup2|point1|point2|\n",
      "+----------+-------------------------+-------------+--------------+------------+---+----------+---------+--------+-----------+----------+--------+---------+------------+----------+---------+------+------+\n",
      "|2021-08-29|2021 LCK 서머 포스트 시즌|       결승전|            T1|     DWG KIA|  L|  T1 Canna|  T1 Oner|T1 Faker|T1 Gumayusi|  T1 Keria| DK Khan|DK Canyon|DK ShowMaker|  DK Ghost| DK BeryL|     1|     3|\n",
      "|2021-08-22|2021 LCK 서머 포스트 시즌|2라운드 2경기| Gen.G eSports|          T1|  L|GEN Rascal| GEN Clid| GEN BDD|  GEN Ruler|  GEN Life|T1 Canna|  T1 Oner|    T1 Faker|  T1 Teddy| T1 Keria|     1|     3|\n",
      "|2021-08-21|2021 LCK 서머 포스트 시즌|2라운드 1경기|  NS RED FORCE|     DWG KIA|  L|   NS Rich|NS Peanut| NS Gori| NS deokdam| NS Kellin| DK Khan|DK Canyon|DK ShowMaker|  DK Ghost| DK BeryL|     0|     3|\n",
      "|2021-08-19|2021 LCK 서머 포스트 시즌|1라운드 2경기|  Liiv Sandbox|          T1|  L|LSB Summit|LSB Croco|LSB Fate| LSB Prince|LSB Effort|T1 Canna|  T1 Oner|    T1 Faker|  T1 Teddy| T1 Keria|     0|     3|\n",
      "|2021-08-18|2021 LCK 서머 포스트 시즌|1라운드 1경기|Afreeca Freecs|NS RED FORCE|  L|   AF Kiin| AF Dread|  AF Fly|     AF Leo|AF Lehends| NS Rich|NS Peanut|     NS Gori|NS deokdam|NS Kellin|     1|     3|\n",
      "+----------+-------------------------+-------------+--------------+------------+---+----------+---------+--------+-----------+----------+--------+---------+------------+----------+---------+------+------+\n",
      "only showing top 5 rows\n",
      "\n"
     ]
    }
   ],
   "source": [
    "match_data.show(5)"
   ]
  },
  {
   "cell_type": "code",
   "execution_count": 202,
   "metadata": {},
   "outputs": [
    {
     "name": "stdout",
     "output_type": "stream",
     "text": [
      "+---+----------+-------+-------+----------+-------+\n",
      "|_c0|      date|player1|player2| daybefore|winrate|\n",
      "+---+----------+-------+-------+----------+-------+\n",
      "|  0|2021-08-29|  Canna|   Khan|2021-08-28|    50%|\n",
      "|  1|2021-08-29|   Khan|  Canna|2021-08-28|    50%|\n",
      "|  2|2021-08-22| Rascal|  Canna|2021-08-21|  44.8%|\n",
      "|  3|2021-08-22|  Canna| Rascal|2021-08-21|  55.2%|\n",
      "|  4|2021-08-21|   Rich|   Khan|2021-08-20|  28.6%|\n",
      "+---+----------+-------+-------+----------+-------+\n",
      "only showing top 5 rows\n",
      "\n"
     ]
    }
   ],
   "source": [
    "winrate.show(5)"
   ]
  },
  {
   "cell_type": "code",
   "execution_count": 203,
   "metadata": {},
   "outputs": [
    {
     "name": "stdout",
     "output_type": "stream",
     "text": [
      "+---+----------+-------------+-------------+----------+-------+\n",
      "|_c0|      date|        team1|        team2| daybefore|winrate|\n",
      "+---+----------+-------------+-------------+----------+-------+\n",
      "|  0|2021-08-29|           T1|      DWG KIA|2021-08-28|  38.5%|\n",
      "|  1|2021-08-29|      DWG KIA|           T1|2021-08-28|  61.5%|\n",
      "|  2|2021-08-22|Gen.G eSports|           T1|2021-08-21|  36.7%|\n",
      "|  3|2021-08-22|           T1|Gen.G eSports|2021-08-21|  63.3%|\n",
      "|  4|2021-08-21| NS RED FORCE|      DWG KIA|2021-08-20|  22.2%|\n",
      "+---+----------+-------------+-------------+----------+-------+\n",
      "only showing top 5 rows\n",
      "\n"
     ]
    }
   ],
   "source": [
    "winrate_team.show(5)"
   ]
  },
  {
   "cell_type": "code",
   "execution_count": 204,
   "metadata": {},
   "outputs": [
    {
     "name": "stdout",
     "output_type": "stream",
     "text": [
      "+---+----------+-------------+-------------+----------+----------+--------+--------+\n",
      "|_c0|      date|        team1|        team2| daybefore|  twoweeks|winrate1|winrate2|\n",
      "+---+----------+-------------+-------------+----------+----------+--------+--------+\n",
      "|  0|2021-08-29|           T1|      DWG KIA|2021-08-28|2021-08-14|   66.7%|    100%|\n",
      "|  1|2021-08-29|      DWG KIA|           T1|2021-08-28|2021-08-14|    100%|   66.7%|\n",
      "|  2|2021-08-22|Gen.G eSports|           T1|2021-08-21|2021-08-07|   57.1%|   71.4%|\n",
      "|  3|2021-08-22|           T1|Gen.G eSports|2021-08-21|2021-08-07|   71.4%|   57.1%|\n",
      "|  4|2021-08-21| NS RED FORCE|      DWG KIA|2021-08-20|2021-08-06|     50%|    100%|\n",
      "+---+----------+-------------+-------------+----------+----------+--------+--------+\n",
      "only showing top 5 rows\n",
      "\n"
     ]
    }
   ],
   "source": [
    "winrate_team_recent.show(5)"
   ]
  },
  {
   "cell_type": "code",
   "execution_count": null,
   "metadata": {},
   "outputs": [],
   "source": []
  },
  {
   "cell_type": "code",
   "execution_count": 187,
   "metadata": {},
   "outputs": [],
   "source": [
    "# 뷰 생성\n",
    "\n",
    "match_data.createOrReplaceTempView(\"match\")\n",
    "winrate.createOrReplaceTempView(\"player\")\n",
    "winrate_team.createOrReplaceTempView(\"team\")\n",
    "winrate_team_recent.createOrReplaceTempView(\"recent\")"
   ]
  },
  {
   "cell_type": "code",
   "execution_count": 188,
   "metadata": {},
   "outputs": [],
   "source": [
    "# 데이터 값 변환\n",
    "\n",
    "# 선수별 승률, 팀 승률, 최근 2주간 승률 데이터 join\n",
    "# win의 값 => W 이면 1, L이면 0\n",
    "# (숫자)+'%'인 문자열을 (숫자)로 만들어줌\n",
    "\n",
    "data = spark.sql(\"SELECT if(match.win='W',1,0) as win, float(replace(a.winrate,'%','')) as topwr, float(replace(b.winrate,'%','')) as jgwr,\\\n",
    "    float(replace(c.winrate,'%','')) as midwr, float(replace(d.winrate,'%','')) as adcwr, float(replace(e.winrate,'%','')) as supwr,\\\n",
    "    float(replace(team.winrate,'%','')) as teamwr, float(replace(recent.winrate1,'%','')) as recentwr1, float(replace(recent.winrate2,'%','')) as recentwr2 from match\\\n",
    "    left join player a on match.date=a.date and match.top1 like CONCAT('%', a.player1) and match.top2 like CONCAT('%', a.player2)\\\n",
    "    left join player b on match.date=b.date and match.jg1 like CONCAT('%', b.player1) and match.jg2 like CONCAT('%', b.player2)\\\n",
    "    left join player c on match.date=c.date and match.mid1 like CONCAT('%', c.player1) and match.mid2 like CONCAT('%', c.player2)\\\n",
    "    left join player d on match.date=d.date and match.adc1 like CONCAT('%', d.player1) and match.adc2 like CONCAT('%', d.player2)\\\n",
    "    left join player e on match.date=e.date and match.sup1 like CONCAT('%', e.player1) and match.sup2 like CONCAT('%', e.player2)\\\n",
    "    left join team on match.date=team.date and match.team1=team.team1 and match.team2=team.team2\\\n",
    "    left join recent on match.date=recent.date and match.team1=recent.team1 and match.team2=recent.team2\")"
   ]
  },
  {
   "cell_type": "code",
   "execution_count": 189,
   "metadata": {},
   "outputs": [
    {
     "data": {
      "text/plain": [
       "\"# 데이터 값 변환\\n\\n#  win의 값 => W 이면 1, L이면 0\\n# (숫자)+'%'인 문자열을 (숫자)로 만들어줌\\n\\nfrom pyspark.sql.functions import translate\\nfrom pyspark.sql.types import IntegerType,FloatType\\n\\naa = aa.withColumn('win', translate(aa.win, 'L','0').cast('int'))\\naa = aa.withColumn('win', translate(aa.win, 'W','1').cast('int'))\\naa = aa.withColumn('topwr', translate(aa.topwr, '%','').cast('float'))\\naa = aa.withColumn('jgwr',translate(aa.jgwr, '%','').cast('float'))\\naa = aa.withColumn('midwr',translate(aa.midwr, '%','').cast('float'))\\naa = aa.withColumn('adcwr',translate(aa.adcwr, '%','').cast('float'))\\naa = aa.withColumn('supwr',translate(aa.supwr, '%','').cast('float'))\\naa = aa.withColumn('teamwr',translate(aa.teamwr, '%','').cast('float'))\\naa = aa.withColumn('recentwr1',translate(aa.recentwr1, '%','').cast('float'))\\naa = aa.withColumn('recentwr2',translate(aa.recentwr2, '%','').cast('float'))\""
      ]
     },
     "execution_count": 189,
     "metadata": {},
     "output_type": "execute_result"
    }
   ],
   "source": [
    "'''# 데이터 값 변환\n",
    "\n",
    "#  win의 값 => W 이면 1, L이면 0\n",
    "# (숫자)+'%'인 문자열을 (숫자)로 만들어줌\n",
    "\n",
    "from pyspark.sql.functions import translate\n",
    "from pyspark.sql.types import IntegerType,FloatType\n",
    "\n",
    "aa = aa.withColumn('win', translate(aa.win, 'L','0').cast('int'))\n",
    "aa = aa.withColumn('win', translate(aa.win, 'W','1').cast('int'))\n",
    "aa = aa.withColumn('topwr', translate(aa.topwr, '%','').cast('float'))\n",
    "aa = aa.withColumn('jgwr',translate(aa.jgwr, '%','').cast('float'))\n",
    "aa = aa.withColumn('midwr',translate(aa.midwr, '%','').cast('float'))\n",
    "aa = aa.withColumn('adcwr',translate(aa.adcwr, '%','').cast('float'))\n",
    "aa = aa.withColumn('supwr',translate(aa.supwr, '%','').cast('float'))\n",
    "aa = aa.withColumn('teamwr',translate(aa.teamwr, '%','').cast('float'))\n",
    "aa = aa.withColumn('recentwr1',translate(aa.recentwr1, '%','').cast('float'))\n",
    "aa = aa.withColumn('recentwr2',translate(aa.recentwr2, '%','').cast('float'))'''"
   ]
  },
  {
   "cell_type": "code",
   "execution_count": 190,
   "metadata": {},
   "outputs": [
    {
     "name": "stdout",
     "output_type": "stream",
     "text": [
      "+---+-----+-----+-----+-----+-----+------+---------+---------+\n",
      "|win|topwr| jgwr|midwr|adcwr|supwr|teamwr|recentwr1|recentwr2|\n",
      "+---+-----+-----+-----+-----+-----+------+---------+---------+\n",
      "|  0| 50.0| 50.0| 41.2| 50.0| 45.7|  38.5|     66.7|    100.0|\n",
      "|  0| 44.8| 33.3| 47.0| 45.8| 43.3|  36.7|     57.1|     71.4|\n",
      "|  0| 28.6| 29.2| 66.7| 22.2| 22.2|  22.2|     50.0|    100.0|\n",
      "|  0| 35.3| 66.7| 85.7| 50.0| 58.3|  35.3|     50.0|     57.1|\n",
      "|  0| 55.6| 42.1| 50.0| 40.0| 69.2|  53.3|     85.7|     33.3|\n",
      "|  1| 92.3| 88.2| 66.7| 92.3| 84.6|  92.3|     37.5|     57.1|\n",
      "|  0| 85.7| null| 60.0| 66.7| 90.0|  70.1|     75.0|     14.3|\n",
      "|  1| 47.6| 60.0| 61.9| null| 60.0|  50.0|     71.4|     40.0|\n",
      "|  1| 75.0|100.0| 92.9|100.0| 78.9|  70.6|    100.0|     54.5|\n",
      "|  0| 40.0| 40.0| null| null| null|  57.1|     30.0|     50.0|\n",
      "|  1| 80.0| 83.3| 62.1| 75.0| 71.4|  60.6|     42.9|     25.0|\n",
      "|  0| 38.9| 40.0| 66.7| null| 50.0|  53.6|     62.5|     28.6|\n",
      "|  0| 80.0| null| 58.6| 40.0| 40.5|  54.0|     42.9|     62.5|\n",
      "|  0| 12.5| null| null| null| null|  40.2|     30.0|     55.6|\n",
      "|  1| 75.0| 52.9| 63.3| 43.2| 61.5|  58.1|     77.8|     50.0|\n",
      "|  1| 33.3| 33.3| 50.0| 50.0| 33.3|  33.3|     62.5|     27.3|\n",
      "|  0| 50.0| 64.7|100.0|100.0| 36.4|  53.8|     66.7|     55.6|\n",
      "|  1| null| null| 52.4| 37.5| 55.6|  63.2|     55.6|     50.0|\n",
      "|  0| 28.6|  0.0| null| null| null|  48.6|     28.6|     33.3|\n",
      "|  0| 50.0| null| 44.4| 40.0| 36.4|  24.0|     50.0|     55.6|\n",
      "+---+-----+-----+-----+-----+-----+------+---------+---------+\n",
      "only showing top 20 rows\n",
      "\n"
     ]
    }
   ],
   "source": [
    "data.show()"
   ]
  },
  {
   "cell_type": "code",
   "execution_count": 191,
   "metadata": {},
   "outputs": [
    {
     "data": {
      "text/plain": [
       "DataFrame[win: int, topwr: float, jgwr: float, midwr: float, adcwr: float, supwr: float, teamwr: float, recentwr1: float, recentwr2: float]"
      ]
     },
     "execution_count": 191,
     "metadata": {},
     "output_type": "execute_result"
    }
   ],
   "source": [
    "data"
   ]
  },
  {
   "cell_type": "code",
   "execution_count": 192,
   "metadata": {},
   "outputs": [
    {
     "name": "stdout",
     "output_type": "stream",
     "text": [
      "+---+-----+----+-----+-----+-----+------+---------+---------+\n",
      "|win|topwr|jgwr|midwr|adcwr|supwr|teamwr|recentwr1|recentwr2|\n",
      "+---+-----+----+-----+-----+-----+------+---------+---------+\n",
      "|  0|   24|  55|   37|   57|   35|     0|        0|        0|\n",
      "+---+-----+----+-----+-----+-----+------+---------+---------+\n",
      "\n"
     ]
    }
   ],
   "source": [
    "# 결측값 개수 보기\n",
    "\n",
    "from pyspark.sql.functions import isnan, when, count, col, isnull\n",
    "\n",
    "data.select([count(when(isnull(c), c)).alias(c) for c in data.columns]).show()"
   ]
  },
  {
   "cell_type": "code",
   "execution_count": 193,
   "metadata": {},
   "outputs": [],
   "source": [
    "# 결측값 처리\n",
    "\n",
    "# 승률이기 때문에 아예 경기를 치르지 않았을 경우 50으로 채워 넣는다.\n",
    "\n",
    "data = data.na.fill(50)"
   ]
  },
  {
   "cell_type": "code",
   "execution_count": 194,
   "metadata": {},
   "outputs": [
    {
     "name": "stdout",
     "output_type": "stream",
     "text": [
      "+---+-----+----+-----+-----+-----+------+---------+---------+\n",
      "|win|topwr|jgwr|midwr|adcwr|supwr|teamwr|recentwr1|recentwr2|\n",
      "+---+-----+----+-----+-----+-----+------+---------+---------+\n",
      "|  0|    0|   0|    0|    0|    0|     0|        0|        0|\n",
      "+---+-----+----+-----+-----+-----+------+---------+---------+\n",
      "\n"
     ]
    }
   ],
   "source": [
    "data.select([count(when(isnull(c), c)).alias(c) for c in data.columns]).show()"
   ]
  },
  {
   "cell_type": "code",
   "execution_count": 195,
   "metadata": {},
   "outputs": [
    {
     "name": "stdout",
     "output_type": "stream",
     "text": [
      "+---+-----+-----+-----+-----+-----+------+---------+---------+\n",
      "|win|topwr| jgwr|midwr|adcwr|supwr|teamwr|recentwr1|recentwr2|\n",
      "+---+-----+-----+-----+-----+-----+------+---------+---------+\n",
      "|  0| 50.0| 50.0| 41.2| 50.0| 45.7|  38.5|     66.7|    100.0|\n",
      "|  0| 44.8| 33.3| 47.0| 45.8| 43.3|  36.7|     57.1|     71.4|\n",
      "|  0| 28.6| 29.2| 66.7| 22.2| 22.2|  22.2|     50.0|    100.0|\n",
      "|  0| 35.3| 66.7| 85.7| 50.0| 58.3|  35.3|     50.0|     57.1|\n",
      "|  0| 55.6| 42.1| 50.0| 40.0| 69.2|  53.3|     85.7|     33.3|\n",
      "|  1| 92.3| 88.2| 66.7| 92.3| 84.6|  92.3|     37.5|     57.1|\n",
      "|  0| 85.7| 50.0| 60.0| 66.7| 90.0|  70.1|     75.0|     14.3|\n",
      "|  1| 47.6| 60.0| 61.9| 50.0| 60.0|  50.0|     71.4|     40.0|\n",
      "|  1| 75.0|100.0| 92.9|100.0| 78.9|  70.6|    100.0|     54.5|\n",
      "|  0| 40.0| 40.0| 50.0| 50.0| 50.0|  57.1|     30.0|     50.0|\n",
      "|  1| 80.0| 83.3| 62.1| 75.0| 71.4|  60.6|     42.9|     25.0|\n",
      "|  0| 38.9| 40.0| 66.7| 50.0| 50.0|  53.6|     62.5|     28.6|\n",
      "|  0| 80.0| 50.0| 58.6| 40.0| 40.5|  54.0|     42.9|     62.5|\n",
      "|  0| 12.5| 50.0| 50.0| 50.0| 50.0|  40.2|     30.0|     55.6|\n",
      "|  1| 75.0| 52.9| 63.3| 43.2| 61.5|  58.1|     77.8|     50.0|\n",
      "|  1| 33.3| 33.3| 50.0| 50.0| 33.3|  33.3|     62.5|     27.3|\n",
      "|  0| 50.0| 64.7|100.0|100.0| 36.4|  53.8|     66.7|     55.6|\n",
      "|  1| 50.0| 50.0| 52.4| 37.5| 55.6|  63.2|     55.6|     50.0|\n",
      "|  0| 28.6|  0.0| 50.0| 50.0| 50.0|  48.6|     28.6|     33.3|\n",
      "|  0| 50.0| 50.0| 44.4| 40.0| 36.4|  24.0|     50.0|     55.6|\n",
      "+---+-----+-----+-----+-----+-----+------+---------+---------+\n",
      "only showing top 20 rows\n",
      "\n"
     ]
    }
   ],
   "source": [
    "data.show()"
   ]
  },
  {
   "cell_type": "code",
   "execution_count": null,
   "metadata": {},
   "outputs": [],
   "source": []
  },
  {
   "cell_type": "code",
   "execution_count": 196,
   "metadata": {},
   "outputs": [],
   "source": [
    "# 데이터 저장\n",
    "\n",
    "data.coalesce(1).write.format(\"com.databricks.spark.csv\").option(\"header\", \"true\").save(\"hdfs://localhost:19000/data/model_data.csv\")"
   ]
  },
  {
   "cell_type": "code",
   "execution_count": null,
   "metadata": {},
   "outputs": [],
   "source": []
  },
  {
   "cell_type": "code",
   "execution_count": 199,
   "metadata": {},
   "outputs": [],
   "source": [
    "temp = spark.read.csv(\"hdfs://localhost:19000/data/model_data.csv\", header=\"true\", inferSchema=\"true\")"
   ]
  },
  {
   "cell_type": "code",
   "execution_count": 201,
   "metadata": {},
   "outputs": [
    {
     "name": "stdout",
     "output_type": "stream",
     "text": [
      "+---+-----+-----+-----+-----+-----+------+---------+---------+\n",
      "|win|topwr| jgwr|midwr|adcwr|supwr|teamwr|recentwr1|recentwr2|\n",
      "+---+-----+-----+-----+-----+-----+------+---------+---------+\n",
      "|  0| 50.0| 50.0| 41.2| 50.0| 45.7|  38.5|     66.7|    100.0|\n",
      "|  0| 44.8| 33.3| 47.0| 45.8| 43.3|  36.7|     57.1|     71.4|\n",
      "|  0| 28.6| 29.2| 66.7| 22.2| 22.2|  22.2|     50.0|    100.0|\n",
      "|  0| 35.3| 66.7| 85.7| 50.0| 58.3|  35.3|     50.0|     57.1|\n",
      "|  0| 55.6| 42.1| 50.0| 40.0| 69.2|  53.3|     85.7|     33.3|\n",
      "|  1| 92.3| 88.2| 66.7| 92.3| 84.6|  92.3|     37.5|     57.1|\n",
      "|  0| 85.7| 50.0| 60.0| 66.7| 90.0|  70.1|     75.0|     14.3|\n",
      "|  1| 47.6| 60.0| 61.9| 50.0| 60.0|  50.0|     71.4|     40.0|\n",
      "|  1| 75.0|100.0| 92.9|100.0| 78.9|  70.6|    100.0|     54.5|\n",
      "|  0| 40.0| 40.0| 50.0| 50.0| 50.0|  57.1|     30.0|     50.0|\n",
      "|  1| 80.0| 83.3| 62.1| 75.0| 71.4|  60.6|     42.9|     25.0|\n",
      "|  0| 38.9| 40.0| 66.7| 50.0| 50.0|  53.6|     62.5|     28.6|\n",
      "|  0| 80.0| 50.0| 58.6| 40.0| 40.5|  54.0|     42.9|     62.5|\n",
      "|  0| 12.5| 50.0| 50.0| 50.0| 50.0|  40.2|     30.0|     55.6|\n",
      "|  1| 75.0| 52.9| 63.3| 43.2| 61.5|  58.1|     77.8|     50.0|\n",
      "|  1| 33.3| 33.3| 50.0| 50.0| 33.3|  33.3|     62.5|     27.3|\n",
      "|  0| 50.0| 64.7|100.0|100.0| 36.4|  53.8|     66.7|     55.6|\n",
      "|  1| 50.0| 50.0| 52.4| 37.5| 55.6|  63.2|     55.6|     50.0|\n",
      "|  0| 28.6|  0.0| 50.0| 50.0| 50.0|  48.6|     28.6|     33.3|\n",
      "|  0| 50.0| 50.0| 44.4| 40.0| 36.4|  24.0|     50.0|     55.6|\n",
      "+---+-----+-----+-----+-----+-----+------+---------+---------+\n",
      "only showing top 20 rows\n",
      "\n"
     ]
    }
   ],
   "source": [
    "temp.show()"
   ]
  },
  {
   "cell_type": "code",
   "execution_count": null,
   "metadata": {},
   "outputs": [],
   "source": []
  }
 ],
 "metadata": {
  "kernelspec": {
   "display_name": "Python 3",
   "language": "python",
   "name": "python3"
  },
  "language_info": {
   "codemirror_mode": {
    "name": "ipython",
    "version": 3
   },
   "file_extension": ".py",
   "mimetype": "text/x-python",
   "name": "python",
   "nbconvert_exporter": "python",
   "pygments_lexer": "ipython3",
   "version": "3.8.5"
  }
 },
 "nbformat": 4,
 "nbformat_minor": 4
}
