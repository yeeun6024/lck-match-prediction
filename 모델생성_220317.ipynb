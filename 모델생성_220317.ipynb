{
 "cells": [
  {
   "cell_type": "code",
   "execution_count": null,
   "metadata": {},
   "outputs": [],
   "source": [
    "# https://databricks.com/notebooks/gallery/GettingStartedWithSparkMLlib.html\n",
    "# https://runawayhorse001.github.io/LearningApacheSpark/fnn.html\n",
    "# https://towardsdatascience.com/machine-learning-with-pyspark-and-mllib-solving-a-binary-classification-problem-96396065d2aa"
   ]
  },
  {
   "cell_type": "code",
   "execution_count": 1,
   "metadata": {},
   "outputs": [],
   "source": [
    "import findspark\n",
    "\n",
    "findspark.init()"
   ]
  },
  {
   "cell_type": "code",
   "execution_count": 2,
   "metadata": {},
   "outputs": [],
   "source": [
    "# spark 생성\n",
    "\n",
    "import pyspark\n",
    "from pyspark.sql import SparkSession\n",
    "\n",
    "spark = SparkSession.builder.getOrCreate()"
   ]
  },
  {
   "cell_type": "code",
   "execution_count": 43,
   "metadata": {},
   "outputs": [],
   "source": [
    "data = spark.read.csv(\"hdfs://localhost:19000/data/model_data.csv\", header=\"true\", inferSchema=\"true\")"
   ]
  },
  {
   "cell_type": "code",
   "execution_count": 44,
   "metadata": {},
   "outputs": [
    {
     "name": "stdout",
     "output_type": "stream",
     "text": [
      "+---+-----+-----+-----+-----+-----+------+---------+---------+\n",
      "|win|topwr| jgwr|midwr|adcwr|supwr|teamwr|recentwr1|recentwr2|\n",
      "+---+-----+-----+-----+-----+-----+------+---------+---------+\n",
      "|  0| 50.0| 50.0| 41.2| 50.0| 45.7|  38.5|     66.7|    100.0|\n",
      "|  0| 44.8| 33.3| 47.0| 45.8| 43.3|  36.7|     57.1|     71.4|\n",
      "|  0| 28.6| 29.2| 66.7| 22.2| 22.2|  22.2|     50.0|    100.0|\n",
      "|  0| 35.3| 66.7| 85.7| 50.0| 58.3|  35.3|     50.0|     57.1|\n",
      "|  0| 55.6| 42.1| 50.0| 40.0| 69.2|  53.3|     85.7|     33.3|\n",
      "|  1| 92.3| 88.2| 66.7| 92.3| 84.6|  92.3|     37.5|     57.1|\n",
      "|  0| 85.7| 50.0| 60.0| 66.7| 90.0|  70.1|     75.0|     14.3|\n",
      "|  1| 47.6| 60.0| 61.9| 50.0| 60.0|  50.0|     71.4|     40.0|\n",
      "|  1| 75.0|100.0| 92.9|100.0| 78.9|  70.6|    100.0|     54.5|\n",
      "|  0| 40.0| 40.0| 50.0| 50.0| 50.0|  57.1|     30.0|     50.0|\n",
      "|  1| 80.0| 83.3| 62.1| 75.0| 71.4|  60.6|     42.9|     25.0|\n",
      "|  0| 38.9| 40.0| 66.7| 50.0| 50.0|  53.6|     62.5|     28.6|\n",
      "|  0| 80.0| 50.0| 58.6| 40.0| 40.5|  54.0|     42.9|     62.5|\n",
      "|  0| 12.5| 50.0| 50.0| 50.0| 50.0|  40.2|     30.0|     55.6|\n",
      "|  1| 75.0| 52.9| 63.3| 43.2| 61.5|  58.1|     77.8|     50.0|\n",
      "|  1| 33.3| 33.3| 50.0| 50.0| 33.3|  33.3|     62.5|     27.3|\n",
      "|  0| 50.0| 64.7|100.0|100.0| 36.4|  53.8|     66.7|     55.6|\n",
      "|  1| 50.0| 50.0| 52.4| 37.5| 55.6|  63.2|     55.6|     50.0|\n",
      "|  0| 28.6|  0.0| 50.0| 50.0| 50.0|  48.6|     28.6|     33.3|\n",
      "|  0| 50.0| 50.0| 44.4| 40.0| 36.4|  24.0|     50.0|     55.6|\n",
      "+---+-----+-----+-----+-----+-----+------+---------+---------+\n",
      "only showing top 20 rows\n",
      "\n"
     ]
    }
   ],
   "source": [
    "data.show()"
   ]
  },
  {
   "cell_type": "code",
   "execution_count": 45,
   "metadata": {},
   "outputs": [
    {
     "name": "stdout",
     "output_type": "stream",
     "text": [
      "root\n",
      " |-- win: integer (nullable = true)\n",
      " |-- topwr: double (nullable = true)\n",
      " |-- jgwr: double (nullable = true)\n",
      " |-- midwr: double (nullable = true)\n",
      " |-- adcwr: double (nullable = true)\n",
      " |-- supwr: double (nullable = true)\n",
      " |-- teamwr: double (nullable = true)\n",
      " |-- recentwr1: double (nullable = true)\n",
      " |-- recentwr2: double (nullable = true)\n",
      "\n"
     ]
    }
   ],
   "source": [
    "data.printSchema()"
   ]
  },
  {
   "cell_type": "code",
   "execution_count": null,
   "metadata": {},
   "outputs": [],
   "source": []
  },
  {
   "cell_type": "code",
   "execution_count": 46,
   "metadata": {},
   "outputs": [],
   "source": [
    "df = data.select('win','topwr','jgwr','midwr','adcwr','supwr','teamwr','recentwr1','recentwr2')\n",
    "cols = df.columns"
   ]
  },
  {
   "cell_type": "code",
   "execution_count": 47,
   "metadata": {},
   "outputs": [
    {
     "name": "stdout",
     "output_type": "stream",
     "text": [
      "root\n",
      " |-- win: integer (nullable = true)\n",
      " |-- topwr: double (nullable = true)\n",
      " |-- jgwr: double (nullable = true)\n",
      " |-- midwr: double (nullable = true)\n",
      " |-- adcwr: double (nullable = true)\n",
      " |-- supwr: double (nullable = true)\n",
      " |-- teamwr: double (nullable = true)\n",
      " |-- recentwr1: double (nullable = true)\n",
      " |-- recentwr2: double (nullable = true)\n",
      "\n"
     ]
    }
   ],
   "source": [
    "df.printSchema()"
   ]
  },
  {
   "cell_type": "code",
   "execution_count": 48,
   "metadata": {},
   "outputs": [],
   "source": [
    "from pyspark.ml.feature import VectorAssembler\n",
    "\n",
    "stages = []\n",
    "\n",
    "numericCols = ['topwr','jgwr','midwr','adcwr','supwr','teamwr','recentwr1','recentwr2']\n",
    "assembler = VectorAssembler(inputCols=numericCols, outputCol=\"features\")\n",
    "stages += [assembler]"
   ]
  },
  {
   "cell_type": "code",
   "execution_count": 49,
   "metadata": {},
   "outputs": [
    {
     "name": "stdout",
     "output_type": "stream",
     "text": [
      "root\n",
      " |-- features: vector (nullable = true)\n",
      " |-- win: integer (nullable = true)\n",
      " |-- topwr: double (nullable = true)\n",
      " |-- jgwr: double (nullable = true)\n",
      " |-- midwr: double (nullable = true)\n",
      " |-- adcwr: double (nullable = true)\n",
      " |-- supwr: double (nullable = true)\n",
      " |-- teamwr: double (nullable = true)\n",
      " |-- recentwr1: double (nullable = true)\n",
      " |-- recentwr2: double (nullable = true)\n",
      "\n"
     ]
    }
   ],
   "source": [
    "from pyspark.ml import Pipeline\n",
    "\n",
    "pipeline = Pipeline(stages = stages)\n",
    "pipelineModel = pipeline.fit(df)\n",
    "df = pipelineModel.transform(df)\n",
    "selectedCols = ['features'] + cols\n",
    "df = df.select(selectedCols)\n",
    "df.printSchema()"
   ]
  },
  {
   "cell_type": "code",
   "execution_count": 50,
   "metadata": {},
   "outputs": [
    {
     "data": {
      "text/html": [
       "<div>\n",
       "<style scoped>\n",
       "    .dataframe tbody tr th:only-of-type {\n",
       "        vertical-align: middle;\n",
       "    }\n",
       "\n",
       "    .dataframe tbody tr th {\n",
       "        vertical-align: top;\n",
       "    }\n",
       "\n",
       "    .dataframe thead th {\n",
       "        text-align: right;\n",
       "    }\n",
       "</style>\n",
       "<table border=\"1\" class=\"dataframe\">\n",
       "  <thead>\n",
       "    <tr style=\"text-align: right;\">\n",
       "      <th></th>\n",
       "      <th>0</th>\n",
       "      <th>1</th>\n",
       "      <th>2</th>\n",
       "      <th>3</th>\n",
       "      <th>4</th>\n",
       "    </tr>\n",
       "  </thead>\n",
       "  <tbody>\n",
       "    <tr>\n",
       "      <th>features</th>\n",
       "      <td>[50.0, 50.0, 41.2, 50.0, 45.7, 38.5, 66.7, 100.0]</td>\n",
       "      <td>[44.8, 33.3, 47.0, 45.8, 43.3, 36.7, 57.1, 71.4]</td>\n",
       "      <td>[28.6, 29.2, 66.7, 22.2, 22.2, 22.2, 50.0, 100.0]</td>\n",
       "      <td>[35.3, 66.7, 85.7, 50.0, 58.3, 35.3, 50.0, 57.1]</td>\n",
       "      <td>[55.6, 42.1, 50.0, 40.0, 69.2, 53.3, 85.7, 33.3]</td>\n",
       "    </tr>\n",
       "    <tr>\n",
       "      <th>win</th>\n",
       "      <td>0</td>\n",
       "      <td>0</td>\n",
       "      <td>0</td>\n",
       "      <td>0</td>\n",
       "      <td>0</td>\n",
       "    </tr>\n",
       "    <tr>\n",
       "      <th>topwr</th>\n",
       "      <td>50</td>\n",
       "      <td>44.8</td>\n",
       "      <td>28.6</td>\n",
       "      <td>35.3</td>\n",
       "      <td>55.6</td>\n",
       "    </tr>\n",
       "    <tr>\n",
       "      <th>jgwr</th>\n",
       "      <td>50</td>\n",
       "      <td>33.3</td>\n",
       "      <td>29.2</td>\n",
       "      <td>66.7</td>\n",
       "      <td>42.1</td>\n",
       "    </tr>\n",
       "    <tr>\n",
       "      <th>midwr</th>\n",
       "      <td>41.2</td>\n",
       "      <td>47</td>\n",
       "      <td>66.7</td>\n",
       "      <td>85.7</td>\n",
       "      <td>50</td>\n",
       "    </tr>\n",
       "    <tr>\n",
       "      <th>adcwr</th>\n",
       "      <td>50</td>\n",
       "      <td>45.8</td>\n",
       "      <td>22.2</td>\n",
       "      <td>50</td>\n",
       "      <td>40</td>\n",
       "    </tr>\n",
       "    <tr>\n",
       "      <th>supwr</th>\n",
       "      <td>45.7</td>\n",
       "      <td>43.3</td>\n",
       "      <td>22.2</td>\n",
       "      <td>58.3</td>\n",
       "      <td>69.2</td>\n",
       "    </tr>\n",
       "    <tr>\n",
       "      <th>teamwr</th>\n",
       "      <td>38.5</td>\n",
       "      <td>36.7</td>\n",
       "      <td>22.2</td>\n",
       "      <td>35.3</td>\n",
       "      <td>53.3</td>\n",
       "    </tr>\n",
       "    <tr>\n",
       "      <th>recentwr1</th>\n",
       "      <td>66.7</td>\n",
       "      <td>57.1</td>\n",
       "      <td>50</td>\n",
       "      <td>50</td>\n",
       "      <td>85.7</td>\n",
       "    </tr>\n",
       "    <tr>\n",
       "      <th>recentwr2</th>\n",
       "      <td>100</td>\n",
       "      <td>71.4</td>\n",
       "      <td>100</td>\n",
       "      <td>57.1</td>\n",
       "      <td>33.3</td>\n",
       "    </tr>\n",
       "  </tbody>\n",
       "</table>\n",
       "</div>"
      ],
      "text/plain": [
       "                                                           0  \\\n",
       "features   [50.0, 50.0, 41.2, 50.0, 45.7, 38.5, 66.7, 100.0]   \n",
       "win                                                        0   \n",
       "topwr                                                     50   \n",
       "jgwr                                                      50   \n",
       "midwr                                                   41.2   \n",
       "adcwr                                                     50   \n",
       "supwr                                                   45.7   \n",
       "teamwr                                                  38.5   \n",
       "recentwr1                                               66.7   \n",
       "recentwr2                                                100   \n",
       "\n",
       "                                                          1  \\\n",
       "features   [44.8, 33.3, 47.0, 45.8, 43.3, 36.7, 57.1, 71.4]   \n",
       "win                                                       0   \n",
       "topwr                                                  44.8   \n",
       "jgwr                                                   33.3   \n",
       "midwr                                                    47   \n",
       "adcwr                                                  45.8   \n",
       "supwr                                                  43.3   \n",
       "teamwr                                                 36.7   \n",
       "recentwr1                                              57.1   \n",
       "recentwr2                                              71.4   \n",
       "\n",
       "                                                           2  \\\n",
       "features   [28.6, 29.2, 66.7, 22.2, 22.2, 22.2, 50.0, 100.0]   \n",
       "win                                                        0   \n",
       "topwr                                                   28.6   \n",
       "jgwr                                                    29.2   \n",
       "midwr                                                   66.7   \n",
       "adcwr                                                   22.2   \n",
       "supwr                                                   22.2   \n",
       "teamwr                                                  22.2   \n",
       "recentwr1                                                 50   \n",
       "recentwr2                                                100   \n",
       "\n",
       "                                                          3  \\\n",
       "features   [35.3, 66.7, 85.7, 50.0, 58.3, 35.3, 50.0, 57.1]   \n",
       "win                                                       0   \n",
       "topwr                                                  35.3   \n",
       "jgwr                                                   66.7   \n",
       "midwr                                                  85.7   \n",
       "adcwr                                                    50   \n",
       "supwr                                                  58.3   \n",
       "teamwr                                                 35.3   \n",
       "recentwr1                                                50   \n",
       "recentwr2                                              57.1   \n",
       "\n",
       "                                                          4  \n",
       "features   [55.6, 42.1, 50.0, 40.0, 69.2, 53.3, 85.7, 33.3]  \n",
       "win                                                       0  \n",
       "topwr                                                  55.6  \n",
       "jgwr                                                   42.1  \n",
       "midwr                                                    50  \n",
       "adcwr                                                    40  \n",
       "supwr                                                  69.2  \n",
       "teamwr                                                 53.3  \n",
       "recentwr1                                              85.7  \n",
       "recentwr2                                              33.3  "
      ]
     },
     "execution_count": 50,
     "metadata": {},
     "output_type": "execute_result"
    }
   ],
   "source": [
    "import pandas as pd\n",
    "\n",
    "pd.DataFrame(df.take(5), columns=df.columns).transpose()"
   ]
  },
  {
   "cell_type": "code",
   "execution_count": 51,
   "metadata": {},
   "outputs": [
    {
     "name": "stdout",
     "output_type": "stream",
     "text": [
      "Training Dataset Count: 129\n",
      "Test Dataset Count: 61\n"
     ]
    }
   ],
   "source": [
    "train, test = df.randomSplit([0.7, 0.3], seed = 2018)\n",
    "print(\"Training Dataset Count: \" + str(train.count()))\n",
    "print(\"Test Dataset Count: \" + str(test.count()))"
   ]
  },
  {
   "cell_type": "code",
   "execution_count": 52,
   "metadata": {},
   "outputs": [],
   "source": [
    "from pyspark.ml.classification import LogisticRegression\n",
    "\n",
    "lr = LogisticRegression(featuresCol = 'features', labelCol = 'win', maxIter=10)\n",
    "lrModel = lr.fit(train)"
   ]
  },
  {
   "cell_type": "code",
   "execution_count": 53,
   "metadata": {},
   "outputs": [
    {
     "data": {
      "image/png": "[encoded data removed]",
      "text/plain": [
       "<Figure size 432x288 with 1 Axes>"
      ]
     },
     "metadata": {
      "needs_background": "light"
     },
     "output_type": "display_data"
    }
   ],
   "source": [
    "import matplotlib.pyplot as plt\n",
    "import numpy as np\n",
    "\n",
    "beta = np.sort(lrModel.coefficients)\n",
    "plt.plot(beta)\n",
    "plt.ylabel('Beta Coefficients')\n",
    "plt.show()"
   ]
  },
  {
   "cell_type": "code",
   "execution_count": 54,
   "metadata": {},
   "outputs": [
    {
     "data": {
      "image/png": "[encoded data removed]",
      "text/plain": [
       "<Figure size 432x288 with 1 Axes>"
      ]
     },
     "metadata": {
      "needs_background": "light"
     },
     "output_type": "display_data"
    },
    {
     "name": "stdout",
     "output_type": "stream",
     "text": [
      "Training set areaUnderROC: 0.7098105876639146\n"
     ]
    }
   ],
   "source": [
    "trainingSummary = lrModel.summary\n",
    "roc = trainingSummary.roc.toPandas()\n",
    "plt.plot(roc['FPR'],roc['TPR'])\n",
    "plt.ylabel('False Positive Rate')\n",
    "plt.xlabel('True Positive Rate')\n",
    "plt.title('ROC Curve')\n",
    "plt.show()\n",
    "print('Training set areaUnderROC: ' + str(trainingSummary.areaUnderROC))"
   ]
  },
  {
   "cell_type": "code",
   "execution_count": 55,
   "metadata": {},
   "outputs": [
    {
     "data": {
      "image/png": "[encoded data removed]",
      "text/plain": [
       "<Figure size 432x288 with 1 Axes>"
      ]
     },
     "metadata": {
      "needs_background": "light"
     },
     "output_type": "display_data"
    }
   ],
   "source": [
    "pr = trainingSummary.pr.toPandas()\n",
    "plt.plot(pr['recall'],pr['precision'])\n",
    "plt.ylabel('Precision')\n",
    "plt.xlabel('Recall')\n",
    "plt.show()"
   ]
  },
  {
   "cell_type": "code",
   "execution_count": 61,
   "metadata": {},
   "outputs": [
    {
     "name": "stdout",
     "output_type": "stream",
     "text": [
      "+---+--------------------+----------+--------------------+\n",
      "|win|       rawPrediction|prediction|         probability|\n",
      "+---+--------------------+----------+--------------------+\n",
      "|  0|[2.19770127833227...|       0.0|[0.90004289490961...|\n",
      "|  0|[1.85279646424342...|       0.0|[0.86445510571204...|\n",
      "|  0|[0.99886553900932...|       0.0|[0.73083547160300...|\n",
      "|  0|[1.10644968233513...|       0.0|[0.75146663016580...|\n",
      "|  0|[0.93739081737367...|       0.0|[0.71857231351629...|\n",
      "|  1|[0.41199904089375...|       0.0|[0.60156711435125...|\n",
      "|  0|[0.86336190798715...|       0.0|[0.70336257437496...|\n",
      "|  0|[0.90399898418324...|       0.0|[0.71177060134396...|\n",
      "|  1|[0.94984283520455...|       0.0|[0.72108356981454...|\n",
      "|  1|[0.55249647698994...|       0.0|[0.63471459856270...|\n",
      "|  0|[1.40338477938894...|       0.0|[0.80272045260514...|\n",
      "|  1|[1.56738973637098...|       0.0|[0.82741117610656...|\n",
      "|  0|[1.05710280426349...|       0.0|[0.74213649825821...|\n",
      "|  0|[0.38961207503442...|       0.0|[0.59618931077183...|\n",
      "|  1|[0.66880375102860...|       0.0|[0.66123524731743...|\n",
      "|  0|[0.27352291556682...|       0.0|[0.56795757033220...|\n",
      "|  1|[0.85381739074859...|       0.0|[0.70136731368422...|\n",
      "|  1|[0.44324952467220...|       0.0|[0.60903305445256...|\n",
      "|  0|[0.76088757450955...|       0.0|[0.68154640479555...|\n",
      "|  0|[0.93177789675298...|       0.0|[0.71743584295251...|\n",
      "|  0|[-0.1503579486412...|       1.0|[0.46248117017274...|\n",
      "|  0|[-0.4622216808525...|       1.0|[0.38645891192314...|\n",
      "|  0|[0.65470981099385...|       0.0|[0.65807102158445...|\n",
      "|  0|[0.71915275385742...|       0.0|[0.67242042041408...|\n",
      "|  0|[1.33021382420214...|       0.0|[0.79087600161753...|\n",
      "|  0|[1.08342396661064...|       0.0|[0.74714139019565...|\n",
      "|  1|[0.96901368187331...|       0.0|[0.72492286002027...|\n",
      "|  1|[0.63661787372880...|       0.0|[0.65398852670728...|\n",
      "|  1|[0.18457311234592...|       0.0|[0.54601272500643...|\n",
      "|  0|[-0.7298526112762...|       1.0|[0.32522707169185...|\n",
      "|  0|[0.85810087298530...|       0.0|[0.70226371963167...|\n",
      "|  0|[1.65484998910918...|       0.0|[0.83954546341512...|\n",
      "|  1|[-0.2247558602924...|       1.0|[0.44404637920418...|\n",
      "|  0|[0.23299150300168...|       0.0|[0.55798579931714...|\n",
      "|  1|[0.14548565310458...|       0.0|[0.53630739543415...|\n",
      "|  0|[0.69598484555832...|       0.0|[0.66729696037185...|\n",
      "|  1|[0.62115597091144...|       0.0|[0.65048141043545...|\n",
      "|  1|[0.48755172090447...|       0.0|[0.61952951099628...|\n",
      "|  1|[0.13354158809954...|       0.0|[0.53333587087292...|\n",
      "|  1|[-0.8122261871912...|       1.0|[0.30741631169303...|\n",
      "|  1|[0.02164604658486...|       0.0|[0.50541130035853...|\n",
      "|  0|[0.42804144972415...|       0.0|[0.60540588786155...|\n",
      "|  0|[0.22760487912821...|       0.0|[0.55665684319630...|\n",
      "|  1|[0.16992649432848...|       0.0|[0.54237969643234...|\n",
      "|  1|[0.14352416157611...|       0.0|[0.53581957365843...|\n",
      "|  1|[-1.1027531250851...|       1.0|[0.24922439719112...|\n",
      "|  0|[-1.1311075298847...|       1.0|[0.24395676810658...|\n",
      "|  1|[-0.2688417554739...|       1.0|[0.43319146444364...|\n",
      "|  1|[-1.0746298005299...|       1.0|[0.25452362163646...|\n",
      "|  1|[-0.6674729132241...|       1.0|[0.33906292854077...|\n",
      "|  0|[-1.1522572456302...|       1.0|[0.24007702946563...|\n",
      "|  0|[-0.3077904013784...|       1.0|[0.42365416824894...|\n",
      "|  0|[-0.6893741080775...|       1.0|[0.33417232048288...|\n",
      "|  1|[0.55890181653693...|       0.0|[0.63619840376168...|\n",
      "|  1|[-0.4389798842488...|       1.0|[0.39198406924265...|\n",
      "|  1|[-0.4342044501708...|       1.0|[0.39312279588269...|\n",
      "|  0|[-0.9866511795625...|       1.0|[0.27157403961143...|\n",
      "|  0|[-0.0541172687844...|       1.0|[0.48647398375583...|\n",
      "|  1|[-0.9647071845193...|       1.0|[0.27593672865008...|\n",
      "|  1|[-1.8168504150052...|       1.0|[0.13981222753804...|\n",
      "|  0|[-1.5432029118709...|       1.0|[0.17607014793238...|\n",
      "+---+--------------------+----------+--------------------+\n",
      "\n"
     ]
    }
   ],
   "source": [
    "predictions = lrModel.transform(test)\n",
    "predictions.select('win', 'rawPrediction', 'prediction', 'probability').show(100)"
   ]
  },
  {
   "cell_type": "code",
   "execution_count": 60,
   "metadata": {},
   "outputs": [
    {
     "ename": "IllegalArgumentException",
     "evalue": "label does not exist. Available: features, win, topwr, jgwr, midwr, adcwr, supwr, teamwr, recentwr1, recentwr2, rawPrediction, probability, prediction",
     "output_type": "error",
     "traceback": [
      "\u001b[1;31m---------------------------------------------------------------------------\u001b[0m",
      "\u001b[1;31mIllegalArgumentException\u001b[0m                  Traceback (most recent call last)",
      "\u001b[1;32m<ipython-input-60-8d2740f3bbfc>\u001b[0m in \u001b[0;36m<module>\u001b[1;34m\u001b[0m\n\u001b[0;32m      2\u001b[0m \u001b[1;33m\u001b[0m\u001b[0m\n\u001b[0;32m      3\u001b[0m \u001b[0mevaluator\u001b[0m \u001b[1;33m=\u001b[0m \u001b[0mBinaryClassificationEvaluator\u001b[0m\u001b[1;33m(\u001b[0m\u001b[1;33m)\u001b[0m\u001b[1;33m\u001b[0m\u001b[1;33m\u001b[0m\u001b[0m\n\u001b[1;32m----> 4\u001b[1;33m \u001b[0mprint\u001b[0m\u001b[1;33m(\u001b[0m\u001b[1;34m'Test Area Under ROC'\u001b[0m\u001b[1;33m,\u001b[0m \u001b[0mevaluator\u001b[0m\u001b[1;33m.\u001b[0m\u001b[0mevaluate\u001b[0m\u001b[1;33m(\u001b[0m\u001b[0mpredictions\u001b[0m\u001b[1;33m)\u001b[0m\u001b[1;33m)\u001b[0m\u001b[1;33m\u001b[0m\u001b[1;33m\u001b[0m\u001b[0m\n\u001b[0m",
      "\u001b[1;32mC:\\Spark\\spark-3.0.3-bin-hadoop3.2\\python\\pyspark\\ml\\evaluation.py\u001b[0m in \u001b[0;36mevaluate\u001b[1;34m(self, dataset, params)\u001b[0m\n\u001b[0;32m     70\u001b[0m                 \u001b[1;32mreturn\u001b[0m \u001b[0mself\u001b[0m\u001b[1;33m.\u001b[0m\u001b[0mcopy\u001b[0m\u001b[1;33m(\u001b[0m\u001b[0mparams\u001b[0m\u001b[1;33m)\u001b[0m\u001b[1;33m.\u001b[0m\u001b[0m_evaluate\u001b[0m\u001b[1;33m(\u001b[0m\u001b[0mdataset\u001b[0m\u001b[1;33m)\u001b[0m\u001b[1;33m\u001b[0m\u001b[1;33m\u001b[0m\u001b[0m\n\u001b[0;32m     71\u001b[0m             \u001b[1;32melse\u001b[0m\u001b[1;33m:\u001b[0m\u001b[1;33m\u001b[0m\u001b[1;33m\u001b[0m\u001b[0m\n\u001b[1;32m---> 72\u001b[1;33m                 \u001b[1;32mreturn\u001b[0m \u001b[0mself\u001b[0m\u001b[1;33m.\u001b[0m\u001b[0m_evaluate\u001b[0m\u001b[1;33m(\u001b[0m\u001b[0mdataset\u001b[0m\u001b[1;33m)\u001b[0m\u001b[1;33m\u001b[0m\u001b[1;33m\u001b[0m\u001b[0m\n\u001b[0m\u001b[0;32m     73\u001b[0m         \u001b[1;32melse\u001b[0m\u001b[1;33m:\u001b[0m\u001b[1;33m\u001b[0m\u001b[1;33m\u001b[0m\u001b[0m\n\u001b[0;32m     74\u001b[0m             \u001b[1;32mraise\u001b[0m \u001b[0mValueError\u001b[0m\u001b[1;33m(\u001b[0m\u001b[1;34m\"Params must be a param map but got %s.\"\u001b[0m \u001b[1;33m%\u001b[0m \u001b[0mtype\u001b[0m\u001b[1;33m(\u001b[0m\u001b[0mparams\u001b[0m\u001b[1;33m)\u001b[0m\u001b[1;33m)\u001b[0m\u001b[1;33m\u001b[0m\u001b[1;33m\u001b[0m\u001b[0m\n",
      "\u001b[1;32mC:\\Spark\\spark-3.0.3-bin-hadoop3.2\\python\\pyspark\\ml\\evaluation.py\u001b[0m in \u001b[0;36m_evaluate\u001b[1;34m(self, dataset)\u001b[0m\n\u001b[0;32m    100\u001b[0m         \"\"\"\n\u001b[0;32m    101\u001b[0m         \u001b[0mself\u001b[0m\u001b[1;33m.\u001b[0m\u001b[0m_transfer_params_to_java\u001b[0m\u001b[1;33m(\u001b[0m\u001b[1;33m)\u001b[0m\u001b[1;33m\u001b[0m\u001b[1;33m\u001b[0m\u001b[0m\n\u001b[1;32m--> 102\u001b[1;33m         \u001b[1;32mreturn\u001b[0m \u001b[0mself\u001b[0m\u001b[1;33m.\u001b[0m\u001b[0m_java_obj\u001b[0m\u001b[1;33m.\u001b[0m\u001b[0mevaluate\u001b[0m\u001b[1;33m(\u001b[0m\u001b[0mdataset\u001b[0m\u001b[1;33m.\u001b[0m\u001b[0m_jdf\u001b[0m\u001b[1;33m)\u001b[0m\u001b[1;33m\u001b[0m\u001b[1;33m\u001b[0m\u001b[0m\n\u001b[0m\u001b[0;32m    103\u001b[0m \u001b[1;33m\u001b[0m\u001b[0m\n\u001b[0;32m    104\u001b[0m     \u001b[1;32mdef\u001b[0m \u001b[0misLargerBetter\u001b[0m\u001b[1;33m(\u001b[0m\u001b[0mself\u001b[0m\u001b[1;33m)\u001b[0m\u001b[1;33m:\u001b[0m\u001b[1;33m\u001b[0m\u001b[1;33m\u001b[0m\u001b[0m\n",
      "\u001b[1;32mC:\\Spark\\spark-3.0.3-bin-hadoop3.2\\python\\lib\\py4j-0.10.9-src.zip\\py4j\\java_gateway.py\u001b[0m in \u001b[0;36m__call__\u001b[1;34m(self, *args)\u001b[0m\n\u001b[0;32m   1302\u001b[0m \u001b[1;33m\u001b[0m\u001b[0m\n\u001b[0;32m   1303\u001b[0m         \u001b[0manswer\u001b[0m \u001b[1;33m=\u001b[0m \u001b[0mself\u001b[0m\u001b[1;33m.\u001b[0m\u001b[0mgateway_client\u001b[0m\u001b[1;33m.\u001b[0m\u001b[0msend_command\u001b[0m\u001b[1;33m(\u001b[0m\u001b[0mcommand\u001b[0m\u001b[1;33m)\u001b[0m\u001b[1;33m\u001b[0m\u001b[1;33m\u001b[0m\u001b[0m\n\u001b[1;32m-> 1304\u001b[1;33m         return_value = get_return_value(\n\u001b[0m\u001b[0;32m   1305\u001b[0m             answer, self.gateway_client, self.target_id, self.name)\n\u001b[0;32m   1306\u001b[0m \u001b[1;33m\u001b[0m\u001b[0m\n",
      "\u001b[1;32mC:\\Spark\\spark-3.0.3-bin-hadoop3.2\\python\\pyspark\\sql\\utils.py\u001b[0m in \u001b[0;36mdeco\u001b[1;34m(*a, **kw)\u001b[0m\n\u001b[0;32m    132\u001b[0m                 \u001b[1;31m# Hide where the exception came from that shows a non-Pythonic\u001b[0m\u001b[1;33m\u001b[0m\u001b[1;33m\u001b[0m\u001b[1;33m\u001b[0m\u001b[0m\n\u001b[0;32m    133\u001b[0m                 \u001b[1;31m# JVM exception message.\u001b[0m\u001b[1;33m\u001b[0m\u001b[1;33m\u001b[0m\u001b[1;33m\u001b[0m\u001b[0m\n\u001b[1;32m--> 134\u001b[1;33m                 \u001b[0mraise_from\u001b[0m\u001b[1;33m(\u001b[0m\u001b[0mconverted\u001b[0m\u001b[1;33m)\u001b[0m\u001b[1;33m\u001b[0m\u001b[1;33m\u001b[0m\u001b[0m\n\u001b[0m\u001b[0;32m    135\u001b[0m             \u001b[1;32melse\u001b[0m\u001b[1;33m:\u001b[0m\u001b[1;33m\u001b[0m\u001b[1;33m\u001b[0m\u001b[0m\n\u001b[0;32m    136\u001b[0m                 \u001b[1;32mraise\u001b[0m\u001b[1;33m\u001b[0m\u001b[1;33m\u001b[0m\u001b[0m\n",
      "\u001b[1;32mC:\\Spark\\spark-3.0.3-bin-hadoop3.2\\python\\pyspark\\sql\\utils.py\u001b[0m in \u001b[0;36mraise_from\u001b[1;34m(e)\u001b[0m\n",
      "\u001b[1;31mIllegalArgumentException\u001b[0m: label does not exist. Available: features, win, topwr, jgwr, midwr, adcwr, supwr, teamwr, recentwr1, recentwr2, rawPrediction, probability, prediction"
     ]
    }
   ],
   "source": [
    "from pyspark.ml.evaluation import BinaryClassificationEvaluator\n",
    "\n",
    "evaluator = BinaryClassificationEvaluator()\n",
    "print('Test Area Under ROC', evaluator.evaluate(predictions))"
   ]
  },
  {
   "cell_type": "code",
   "execution_count": null,
   "metadata": {},
   "outputs": [],
   "source": []
  }
 ],
 "metadata": {
  "kernelspec": {
   "display_name": "Python 3",
   "language": "python",
   "name": "python3"
  },
  "language_info": {
   "codemirror_mode": {
    "name": "ipython",
    "version": 3
   },
   "file_extension": ".py",
   "mimetype": "text/x-python",
   "name": "python",
   "nbconvert_exporter": "python",
   "pygments_lexer": "ipython3",
   "version": "3.8.5"
  }
 },
 "nbformat": 4,
 "nbformat_minor": 4
}
