{
 "cells": [
  {
   "cell_type": "code",
   "execution_count": null,
   "metadata": {},
   "outputs": [],
   "source": [
    "# https://spark.apache.org/docs/latest/ml-classification-regression.html#decision-tree-classifier"
   ]
  },
  {
   "cell_type": "code",
   "execution_count": 1,
   "metadata": {},
   "outputs": [],
   "source": [
    "import findspark\n",
    "\n",
    "findspark.init()"
   ]
  },
  {
   "cell_type": "code",
   "execution_count": 2,
   "metadata": {},
   "outputs": [],
   "source": [
    "# spark 생성\n",
    "\n",
    "import pyspark\n",
    "from pyspark.sql import SparkSession\n",
    "\n",
    "spark = SparkSession.builder.getOrCreate()"
   ]
  },
  {
   "cell_type": "code",
   "execution_count": 3,
   "metadata": {},
   "outputs": [],
   "source": [
    "data = spark.read.csv(\"hdfs://localhost:19000/data/model_data.csv\", header=\"true\", inferSchema=\"true\")"
   ]
  },
  {
   "cell_type": "code",
   "execution_count": 4,
   "metadata": {},
   "outputs": [
    {
     "name": "stdout",
     "output_type": "stream",
     "text": [
      "+---+-----+-----+-----+-----+-----+------+---------+---------+\n",
      "|win|topwr| jgwr|midwr|adcwr|supwr|teamwr|recentwr1|recentwr2|\n",
      "+---+-----+-----+-----+-----+-----+------+---------+---------+\n",
      "|  0| 50.0| 50.0| 41.2| 50.0| 45.7|  38.5|     66.7|    100.0|\n",
      "|  0| 44.8| 33.3| 47.0| 45.8| 43.3|  36.7|     57.1|     71.4|\n",
      "|  0| 28.6| 29.2| 66.7| 22.2| 22.2|  22.2|     50.0|    100.0|\n",
      "|  0| 35.3| 66.7| 85.7| 50.0| 58.3|  35.3|     50.0|     57.1|\n",
      "|  0| 55.6| 42.1| 50.0| 40.0| 69.2|  53.3|     85.7|     33.3|\n",
      "|  1| 92.3| 88.2| 66.7| 92.3| 84.6|  92.3|     37.5|     57.1|\n",
      "|  0| 85.7| 50.0| 60.0| 66.7| 90.0|  70.1|     75.0|     14.3|\n",
      "|  1| 47.6| 60.0| 61.9| 50.0| 60.0|  50.0|     71.4|     40.0|\n",
      "|  1| 75.0|100.0| 92.9|100.0| 78.9|  70.6|    100.0|     54.5|\n",
      "|  0| 40.0| 40.0| 50.0| 50.0| 50.0|  57.1|     30.0|     50.0|\n",
      "|  1| 80.0| 83.3| 62.1| 75.0| 71.4|  60.6|     42.9|     25.0|\n",
      "|  0| 38.9| 40.0| 66.7| 50.0| 50.0|  53.6|     62.5|     28.6|\n",
      "|  0| 80.0| 50.0| 58.6| 40.0| 40.5|  54.0|     42.9|     62.5|\n",
      "|  0| 12.5| 50.0| 50.0| 50.0| 50.0|  40.2|     30.0|     55.6|\n",
      "|  1| 75.0| 52.9| 63.3| 43.2| 61.5|  58.1|     77.8|     50.0|\n",
      "|  1| 33.3| 33.3| 50.0| 50.0| 33.3|  33.3|     62.5|     27.3|\n",
      "|  0| 50.0| 64.7|100.0|100.0| 36.4|  53.8|     66.7|     55.6|\n",
      "|  1| 50.0| 50.0| 52.4| 37.5| 55.6|  63.2|     55.6|     50.0|\n",
      "|  0| 28.6|  0.0| 50.0| 50.0| 50.0|  48.6|     28.6|     33.3|\n",
      "|  0| 50.0| 50.0| 44.4| 40.0| 36.4|  24.0|     50.0|     55.6|\n",
      "+---+-----+-----+-----+-----+-----+------+---------+---------+\n",
      "only showing top 20 rows\n",
      "\n"
     ]
    }
   ],
   "source": [
    "data.show()"
   ]
  },
  {
   "cell_type": "code",
   "execution_count": null,
   "metadata": {},
   "outputs": [],
   "source": []
  },
  {
   "cell_type": "code",
   "execution_count": 21,
   "metadata": {},
   "outputs": [],
   "source": [
    "import numpy as np\n",
    "from pyspark.ml import Pipeline\n",
    "from pyspark.ml.classification import DecisionTreeClassifier\n",
    "from pyspark.ml.evaluation import MulticlassClassificationEvaluator\n",
    "from pyspark.ml.evaluation import BinaryClassificationEvaluator\n",
    "from pyspark.ml.feature import VectorAssembler\n",
    "from pyspark.ml.tuning import ParamGridBuilder, CrossValidator"
   ]
  },
  {
   "cell_type": "code",
   "execution_count": 8,
   "metadata": {},
   "outputs": [],
   "source": [
    "# VectorAssembler\n",
    "assembler = VectorAssembler(\n",
    "    inputCols=data.columns[1:],\n",
    "    outputCol=\"features\")\n",
    "\n",
    "# 데이터 분리\n",
    "train_data, test_data = data.randomSplit(weights=[0.8, 0.2],  seed=13)\n",
    "\n",
    "# DecisionTree\n",
    "dt = DecisionTreeClassifier(labelCol=\"win\", featuresCol=\"features\")\n",
    "\n",
    "# Pipeline\n",
    "pipeline = Pipeline(stages=[assembler, dt])\n",
    "\n",
    "# 모델 훈련\n",
    "model = pipeline.fit(train_data)\n",
    "\n",
    "# 모델 예측\n",
    "pred = model.transform(test_data)"
   ]
  },
  {
   "cell_type": "code",
   "execution_count": 9,
   "metadata": {},
   "outputs": [
    {
     "data": {
      "text/html": [
       "<div>\n",
       "<style scoped>\n",
       "    .dataframe tbody tr th:only-of-type {\n",
       "        vertical-align: middle;\n",
       "    }\n",
       "\n",
       "    .dataframe tbody tr th {\n",
       "        vertical-align: top;\n",
       "    }\n",
       "\n",
       "    .dataframe thead th {\n",
       "        text-align: right;\n",
       "    }\n",
       "</style>\n",
       "<table border=\"1\" class=\"dataframe\">\n",
       "  <thead>\n",
       "    <tr style=\"text-align: right;\">\n",
       "      <th></th>\n",
       "      <th>win</th>\n",
       "      <th>rawPrediction</th>\n",
       "      <th>probability</th>\n",
       "      <th>prediction</th>\n",
       "    </tr>\n",
       "  </thead>\n",
       "  <tbody>\n",
       "    <tr>\n",
       "      <th>0</th>\n",
       "      <td>0</td>\n",
       "      <td>[19.0, 1.0]</td>\n",
       "      <td>[0.95, 0.05]</td>\n",
       "      <td>0.0</td>\n",
       "    </tr>\n",
       "    <tr>\n",
       "      <th>1</th>\n",
       "      <td>0</td>\n",
       "      <td>[19.0, 1.0]</td>\n",
       "      <td>[0.95, 0.05]</td>\n",
       "      <td>0.0</td>\n",
       "    </tr>\n",
       "    <tr>\n",
       "      <th>2</th>\n",
       "      <td>0</td>\n",
       "      <td>[0.0, 6.0]</td>\n",
       "      <td>[0.0, 1.0]</td>\n",
       "      <td>1.0</td>\n",
       "    </tr>\n",
       "    <tr>\n",
       "      <th>3</th>\n",
       "      <td>0</td>\n",
       "      <td>[38.0, 14.0]</td>\n",
       "      <td>[0.7307692307692307, 0.2692307692307692]</td>\n",
       "      <td>0.0</td>\n",
       "    </tr>\n",
       "    <tr>\n",
       "      <th>4</th>\n",
       "      <td>0</td>\n",
       "      <td>[0.0, 1.0]</td>\n",
       "      <td>[0.0, 1.0]</td>\n",
       "      <td>1.0</td>\n",
       "    </tr>\n",
       "    <tr>\n",
       "      <th>5</th>\n",
       "      <td>0</td>\n",
       "      <td>[19.0, 1.0]</td>\n",
       "      <td>[0.95, 0.05]</td>\n",
       "      <td>0.0</td>\n",
       "    </tr>\n",
       "    <tr>\n",
       "      <th>6</th>\n",
       "      <td>0</td>\n",
       "      <td>[19.0, 1.0]</td>\n",
       "      <td>[0.95, 0.05]</td>\n",
       "      <td>0.0</td>\n",
       "    </tr>\n",
       "    <tr>\n",
       "      <th>7</th>\n",
       "      <td>0</td>\n",
       "      <td>[38.0, 14.0]</td>\n",
       "      <td>[0.7307692307692307, 0.2692307692307692]</td>\n",
       "      <td>0.0</td>\n",
       "    </tr>\n",
       "    <tr>\n",
       "      <th>8</th>\n",
       "      <td>0</td>\n",
       "      <td>[38.0, 14.0]</td>\n",
       "      <td>[0.7307692307692307, 0.2692307692307692]</td>\n",
       "      <td>0.0</td>\n",
       "    </tr>\n",
       "    <tr>\n",
       "      <th>9</th>\n",
       "      <td>0</td>\n",
       "      <td>[0.0, 6.0]</td>\n",
       "      <td>[0.0, 1.0]</td>\n",
       "      <td>1.0</td>\n",
       "    </tr>\n",
       "    <tr>\n",
       "      <th>10</th>\n",
       "      <td>0</td>\n",
       "      <td>[38.0, 14.0]</td>\n",
       "      <td>[0.7307692307692307, 0.2692307692307692]</td>\n",
       "      <td>0.0</td>\n",
       "    </tr>\n",
       "    <tr>\n",
       "      <th>11</th>\n",
       "      <td>0</td>\n",
       "      <td>[38.0, 14.0]</td>\n",
       "      <td>[0.7307692307692307, 0.2692307692307692]</td>\n",
       "      <td>0.0</td>\n",
       "    </tr>\n",
       "    <tr>\n",
       "      <th>12</th>\n",
       "      <td>0</td>\n",
       "      <td>[38.0, 14.0]</td>\n",
       "      <td>[0.7307692307692307, 0.2692307692307692]</td>\n",
       "      <td>0.0</td>\n",
       "    </tr>\n",
       "    <tr>\n",
       "      <th>13</th>\n",
       "      <td>0</td>\n",
       "      <td>[0.0, 6.0]</td>\n",
       "      <td>[0.0, 1.0]</td>\n",
       "      <td>1.0</td>\n",
       "    </tr>\n",
       "    <tr>\n",
       "      <th>14</th>\n",
       "      <td>0</td>\n",
       "      <td>[3.0, 5.0]</td>\n",
       "      <td>[0.375, 0.625]</td>\n",
       "      <td>1.0</td>\n",
       "    </tr>\n",
       "    <tr>\n",
       "      <th>15</th>\n",
       "      <td>0</td>\n",
       "      <td>[0.0, 19.0]</td>\n",
       "      <td>[0.0, 1.0]</td>\n",
       "      <td>1.0</td>\n",
       "    </tr>\n",
       "    <tr>\n",
       "      <th>16</th>\n",
       "      <td>0</td>\n",
       "      <td>[1.0, 0.0]</td>\n",
       "      <td>[1.0, 0.0]</td>\n",
       "      <td>0.0</td>\n",
       "    </tr>\n",
       "    <tr>\n",
       "      <th>17</th>\n",
       "      <td>0</td>\n",
       "      <td>[11.0, 7.0]</td>\n",
       "      <td>[0.6111111111111112, 0.3888888888888889]</td>\n",
       "      <td>0.0</td>\n",
       "    </tr>\n",
       "    <tr>\n",
       "      <th>18</th>\n",
       "      <td>1</td>\n",
       "      <td>[0.0, 6.0]</td>\n",
       "      <td>[0.0, 1.0]</td>\n",
       "      <td>1.0</td>\n",
       "    </tr>\n",
       "    <tr>\n",
       "      <th>19</th>\n",
       "      <td>1</td>\n",
       "      <td>[1.0, 0.0]</td>\n",
       "      <td>[1.0, 0.0]</td>\n",
       "      <td>0.0</td>\n",
       "    </tr>\n",
       "    <tr>\n",
       "      <th>20</th>\n",
       "      <td>1</td>\n",
       "      <td>[38.0, 14.0]</td>\n",
       "      <td>[0.7307692307692307, 0.2692307692307692]</td>\n",
       "      <td>0.0</td>\n",
       "    </tr>\n",
       "    <tr>\n",
       "      <th>21</th>\n",
       "      <td>1</td>\n",
       "      <td>[0.0, 6.0]</td>\n",
       "      <td>[0.0, 1.0]</td>\n",
       "      <td>1.0</td>\n",
       "    </tr>\n",
       "    <tr>\n",
       "      <th>22</th>\n",
       "      <td>1</td>\n",
       "      <td>[38.0, 14.0]</td>\n",
       "      <td>[0.7307692307692307, 0.2692307692307692]</td>\n",
       "      <td>0.0</td>\n",
       "    </tr>\n",
       "    <tr>\n",
       "      <th>23</th>\n",
       "      <td>1</td>\n",
       "      <td>[38.0, 14.0]</td>\n",
       "      <td>[0.7307692307692307, 0.2692307692307692]</td>\n",
       "      <td>0.0</td>\n",
       "    </tr>\n",
       "    <tr>\n",
       "      <th>24</th>\n",
       "      <td>1</td>\n",
       "      <td>[38.0, 14.0]</td>\n",
       "      <td>[0.7307692307692307, 0.2692307692307692]</td>\n",
       "      <td>0.0</td>\n",
       "    </tr>\n",
       "    <tr>\n",
       "      <th>25</th>\n",
       "      <td>1</td>\n",
       "      <td>[11.0, 7.0]</td>\n",
       "      <td>[0.6111111111111112, 0.3888888888888889]</td>\n",
       "      <td>0.0</td>\n",
       "    </tr>\n",
       "    <tr>\n",
       "      <th>26</th>\n",
       "      <td>1</td>\n",
       "      <td>[38.0, 14.0]</td>\n",
       "      <td>[0.7307692307692307, 0.2692307692307692]</td>\n",
       "      <td>0.0</td>\n",
       "    </tr>\n",
       "    <tr>\n",
       "      <th>27</th>\n",
       "      <td>1</td>\n",
       "      <td>[2.0, 0.0]</td>\n",
       "      <td>[1.0, 0.0]</td>\n",
       "      <td>0.0</td>\n",
       "    </tr>\n",
       "    <tr>\n",
       "      <th>28</th>\n",
       "      <td>1</td>\n",
       "      <td>[3.0, 5.0]</td>\n",
       "      <td>[0.375, 0.625]</td>\n",
       "      <td>1.0</td>\n",
       "    </tr>\n",
       "    <tr>\n",
       "      <th>29</th>\n",
       "      <td>1</td>\n",
       "      <td>[1.0, 0.0]</td>\n",
       "      <td>[1.0, 0.0]</td>\n",
       "      <td>0.0</td>\n",
       "    </tr>\n",
       "    <tr>\n",
       "      <th>30</th>\n",
       "      <td>1</td>\n",
       "      <td>[0.0, 19.0]</td>\n",
       "      <td>[0.0, 1.0]</td>\n",
       "      <td>1.0</td>\n",
       "    </tr>\n",
       "    <tr>\n",
       "      <th>31</th>\n",
       "      <td>1</td>\n",
       "      <td>[10.0, 0.0]</td>\n",
       "      <td>[1.0, 0.0]</td>\n",
       "      <td>0.0</td>\n",
       "    </tr>\n",
       "  </tbody>\n",
       "</table>\n",
       "</div>"
      ],
      "text/plain": [
       "    win rawPrediction                               probability  prediction\n",
       "0     0   [19.0, 1.0]                              [0.95, 0.05]         0.0\n",
       "1     0   [19.0, 1.0]                              [0.95, 0.05]         0.0\n",
       "2     0    [0.0, 6.0]                                [0.0, 1.0]         1.0\n",
       "3     0  [38.0, 14.0]  [0.7307692307692307, 0.2692307692307692]         0.0\n",
       "4     0    [0.0, 1.0]                                [0.0, 1.0]         1.0\n",
       "5     0   [19.0, 1.0]                              [0.95, 0.05]         0.0\n",
       "6     0   [19.0, 1.0]                              [0.95, 0.05]         0.0\n",
       "7     0  [38.0, 14.0]  [0.7307692307692307, 0.2692307692307692]         0.0\n",
       "8     0  [38.0, 14.0]  [0.7307692307692307, 0.2692307692307692]         0.0\n",
       "9     0    [0.0, 6.0]                                [0.0, 1.0]         1.0\n",
       "10    0  [38.0, 14.0]  [0.7307692307692307, 0.2692307692307692]         0.0\n",
       "11    0  [38.0, 14.0]  [0.7307692307692307, 0.2692307692307692]         0.0\n",
       "12    0  [38.0, 14.0]  [0.7307692307692307, 0.2692307692307692]         0.0\n",
       "13    0    [0.0, 6.0]                                [0.0, 1.0]         1.0\n",
       "14    0    [3.0, 5.0]                            [0.375, 0.625]         1.0\n",
       "15    0   [0.0, 19.0]                                [0.0, 1.0]         1.0\n",
       "16    0    [1.0, 0.0]                                [1.0, 0.0]         0.0\n",
       "17    0   [11.0, 7.0]  [0.6111111111111112, 0.3888888888888889]         0.0\n",
       "18    1    [0.0, 6.0]                                [0.0, 1.0]         1.0\n",
       "19    1    [1.0, 0.0]                                [1.0, 0.0]         0.0\n",
       "20    1  [38.0, 14.0]  [0.7307692307692307, 0.2692307692307692]         0.0\n",
       "21    1    [0.0, 6.0]                                [0.0, 1.0]         1.0\n",
       "22    1  [38.0, 14.0]  [0.7307692307692307, 0.2692307692307692]         0.0\n",
       "23    1  [38.0, 14.0]  [0.7307692307692307, 0.2692307692307692]         0.0\n",
       "24    1  [38.0, 14.0]  [0.7307692307692307, 0.2692307692307692]         0.0\n",
       "25    1   [11.0, 7.0]  [0.6111111111111112, 0.3888888888888889]         0.0\n",
       "26    1  [38.0, 14.0]  [0.7307692307692307, 0.2692307692307692]         0.0\n",
       "27    1    [2.0, 0.0]                                [1.0, 0.0]         0.0\n",
       "28    1    [3.0, 5.0]                            [0.375, 0.625]         1.0\n",
       "29    1    [1.0, 0.0]                                [1.0, 0.0]         0.0\n",
       "30    1   [0.0, 19.0]                                [0.0, 1.0]         1.0\n",
       "31    1   [10.0, 0.0]                                [1.0, 0.0]         0.0"
      ]
     },
     "execution_count": 9,
     "metadata": {},
     "output_type": "execute_result"
    }
   ],
   "source": [
    "pred.select('win','rawPrediction','probability','prediction').toPandas()"
   ]
  },
  {
   "cell_type": "code",
   "execution_count": null,
   "metadata": {},
   "outputs": [],
   "source": []
  },
  {
   "cell_type": "code",
   "execution_count": 13,
   "metadata": {},
   "outputs": [
    {
     "data": {
      "text/plain": [
       "0.4900793650793651"
      ]
     },
     "execution_count": 13,
     "metadata": {},
     "output_type": "execute_result"
    }
   ],
   "source": [
    "# ROC\n",
    " \n",
    "bcEvaluator = BinaryClassificationEvaluator(rawPredictionCol='rawPrediction', labelCol='win', metricName=\"areaUnderROC\")\n",
    "bcEvaluator.evaluate(pred)"
   ]
  },
  {
   "cell_type": "code",
   "execution_count": 10,
   "metadata": {},
   "outputs": [
    {
     "data": {
      "text/plain": [
       "0.5"
      ]
     },
     "execution_count": 10,
     "metadata": {},
     "output_type": "execute_result"
    }
   ],
   "source": [
    "# 정확도\n",
    "\n",
    "mcEvaluator = MulticlassClassificationEvaluator(predictionCol='prediction', labelCol='win', metricName=\"accuracy\")\n",
    "mcEvaluator.evaluate(pred)"
   ]
  },
  {
   "cell_type": "code",
   "execution_count": null,
   "metadata": {},
   "outputs": [],
   "source": []
  },
  {
   "cell_type": "code",
   "execution_count": 12,
   "metadata": {},
   "outputs": [
    {
     "data": {
      "text/plain": [
       "[VectorAssembler_4666f0b76067,\n",
       " DecisionTreeClassificationModel: uid=DecisionTreeClassifier_d5df6ba4f461, depth=5, numNodes=31, numClasses=2, numFeatures=8]"
      ]
     },
     "execution_count": 12,
     "metadata": {},
     "output_type": "execute_result"
    }
   ],
   "source": [
    "model.stages"
   ]
  },
  {
   "cell_type": "code",
   "execution_count": null,
   "metadata": {},
   "outputs": [],
   "source": []
  },
  {
   "cell_type": "code",
   "execution_count": 211,
   "metadata": {},
   "outputs": [],
   "source": [
    "# 모델 튜닝\n",
    "\n",
    "paramGrid = (ParamGridBuilder()\n",
    "             .addGrid(dt.maxDepth, [2, 5, 10, 20, 30])\n",
    "             .addGrid(dt.maxBins, [10, 20, 40, 80, 100])\n",
    "             .build())\n",
    "\n",
    "cv = CrossValidator(\n",
    "    estimator=pipeline,\n",
    "    estimatorParamMaps=paramGrid,\n",
    "    evaluator=bcEvaluator,\n",
    "    numFolds=3\n",
    ")"
   ]
  },
  {
   "cell_type": "code",
   "execution_count": 212,
   "metadata": {},
   "outputs": [
    {
     "data": {
      "text/plain": [
       "0.6170634920634921"
      ]
     },
     "execution_count": 212,
     "metadata": {},
     "output_type": "execute_result"
    }
   ],
   "source": [
    "# Run cross validations.\n",
    "\n",
    "# maxdepth=5, maxbins=32 >> 0.5\n",
    "# maxdepth=4, maxbins=32 >> 0.585\n",
    "# maxdepth=4, maxbins=34 >> 0.591\n",
    "# maxdepth=10, maxbins=20 >> 0.617\n",
    "\n",
    "cvModel = cv.fit(train_data)\n",
    "lr_cv_predictions = cvModel.transform(test_data)\n",
    "bcEvaluator.evaluate(lr_cv_predictions)"
   ]
  },
  {
   "cell_type": "code",
   "execution_count": 213,
   "metadata": {},
   "outputs": [
    {
     "data": {
      "text/plain": [
       "[{Param(parent='DecisionTreeClassifier_d5df6ba4f461', name='maxDepth', doc='Maximum depth of the tree. (>= 0) E.g., depth 0 means 1 leaf node; depth 1 means 1 internal node + 2 leaf nodes.'): 2,\n",
       "  Param(parent='DecisionTreeClassifier_d5df6ba4f461', name='maxBins', doc='Max number of bins for discretizing continuous features.  Must be >=2 and >= number of categories for any categorical feature.'): 10},\n",
       " {Param(parent='DecisionTreeClassifier_d5df6ba4f461', name='maxDepth', doc='Maximum depth of the tree. (>= 0) E.g., depth 0 means 1 leaf node; depth 1 means 1 internal node + 2 leaf nodes.'): 2,\n",
       "  Param(parent='DecisionTreeClassifier_d5df6ba4f461', name='maxBins', doc='Max number of bins for discretizing continuous features.  Must be >=2 and >= number of categories for any categorical feature.'): 20},\n",
       " {Param(parent='DecisionTreeClassifier_d5df6ba4f461', name='maxDepth', doc='Maximum depth of the tree. (>= 0) E.g., depth 0 means 1 leaf node; depth 1 means 1 internal node + 2 leaf nodes.'): 2,\n",
       "  Param(parent='DecisionTreeClassifier_d5df6ba4f461', name='maxBins', doc='Max number of bins for discretizing continuous features.  Must be >=2 and >= number of categories for any categorical feature.'): 40},\n",
       " {Param(parent='DecisionTreeClassifier_d5df6ba4f461', name='maxDepth', doc='Maximum depth of the tree. (>= 0) E.g., depth 0 means 1 leaf node; depth 1 means 1 internal node + 2 leaf nodes.'): 2,\n",
       "  Param(parent='DecisionTreeClassifier_d5df6ba4f461', name='maxBins', doc='Max number of bins for discretizing continuous features.  Must be >=2 and >= number of categories for any categorical feature.'): 80},\n",
       " {Param(parent='DecisionTreeClassifier_d5df6ba4f461', name='maxDepth', doc='Maximum depth of the tree. (>= 0) E.g., depth 0 means 1 leaf node; depth 1 means 1 internal node + 2 leaf nodes.'): 2,\n",
       "  Param(parent='DecisionTreeClassifier_d5df6ba4f461', name='maxBins', doc='Max number of bins for discretizing continuous features.  Must be >=2 and >= number of categories for any categorical feature.'): 100},\n",
       " {Param(parent='DecisionTreeClassifier_d5df6ba4f461', name='maxDepth', doc='Maximum depth of the tree. (>= 0) E.g., depth 0 means 1 leaf node; depth 1 means 1 internal node + 2 leaf nodes.'): 5,\n",
       "  Param(parent='DecisionTreeClassifier_d5df6ba4f461', name='maxBins', doc='Max number of bins for discretizing continuous features.  Must be >=2 and >= number of categories for any categorical feature.'): 10},\n",
       " {Param(parent='DecisionTreeClassifier_d5df6ba4f461', name='maxDepth', doc='Maximum depth of the tree. (>= 0) E.g., depth 0 means 1 leaf node; depth 1 means 1 internal node + 2 leaf nodes.'): 5,\n",
       "  Param(parent='DecisionTreeClassifier_d5df6ba4f461', name='maxBins', doc='Max number of bins for discretizing continuous features.  Must be >=2 and >= number of categories for any categorical feature.'): 20},\n",
       " {Param(parent='DecisionTreeClassifier_d5df6ba4f461', name='maxDepth', doc='Maximum depth of the tree. (>= 0) E.g., depth 0 means 1 leaf node; depth 1 means 1 internal node + 2 leaf nodes.'): 5,\n",
       "  Param(parent='DecisionTreeClassifier_d5df6ba4f461', name='maxBins', doc='Max number of bins for discretizing continuous features.  Must be >=2 and >= number of categories for any categorical feature.'): 40},\n",
       " {Param(parent='DecisionTreeClassifier_d5df6ba4f461', name='maxDepth', doc='Maximum depth of the tree. (>= 0) E.g., depth 0 means 1 leaf node; depth 1 means 1 internal node + 2 leaf nodes.'): 5,\n",
       "  Param(parent='DecisionTreeClassifier_d5df6ba4f461', name='maxBins', doc='Max number of bins for discretizing continuous features.  Must be >=2 and >= number of categories for any categorical feature.'): 80},\n",
       " {Param(parent='DecisionTreeClassifier_d5df6ba4f461', name='maxDepth', doc='Maximum depth of the tree. (>= 0) E.g., depth 0 means 1 leaf node; depth 1 means 1 internal node + 2 leaf nodes.'): 5,\n",
       "  Param(parent='DecisionTreeClassifier_d5df6ba4f461', name='maxBins', doc='Max number of bins for discretizing continuous features.  Must be >=2 and >= number of categories for any categorical feature.'): 100},\n",
       " {Param(parent='DecisionTreeClassifier_d5df6ba4f461', name='maxDepth', doc='Maximum depth of the tree. (>= 0) E.g., depth 0 means 1 leaf node; depth 1 means 1 internal node + 2 leaf nodes.'): 10,\n",
       "  Param(parent='DecisionTreeClassifier_d5df6ba4f461', name='maxBins', doc='Max number of bins for discretizing continuous features.  Must be >=2 and >= number of categories for any categorical feature.'): 10},\n",
       " {Param(parent='DecisionTreeClassifier_d5df6ba4f461', name='maxDepth', doc='Maximum depth of the tree. (>= 0) E.g., depth 0 means 1 leaf node; depth 1 means 1 internal node + 2 leaf nodes.'): 10,\n",
       "  Param(parent='DecisionTreeClassifier_d5df6ba4f461', name='maxBins', doc='Max number of bins for discretizing continuous features.  Must be >=2 and >= number of categories for any categorical feature.'): 20},\n",
       " {Param(parent='DecisionTreeClassifier_d5df6ba4f461', name='maxDepth', doc='Maximum depth of the tree. (>= 0) E.g., depth 0 means 1 leaf node; depth 1 means 1 internal node + 2 leaf nodes.'): 10,\n",
       "  Param(parent='DecisionTreeClassifier_d5df6ba4f461', name='maxBins', doc='Max number of bins for discretizing continuous features.  Must be >=2 and >= number of categories for any categorical feature.'): 40},\n",
       " {Param(parent='DecisionTreeClassifier_d5df6ba4f461', name='maxDepth', doc='Maximum depth of the tree. (>= 0) E.g., depth 0 means 1 leaf node; depth 1 means 1 internal node + 2 leaf nodes.'): 10,\n",
       "  Param(parent='DecisionTreeClassifier_d5df6ba4f461', name='maxBins', doc='Max number of bins for discretizing continuous features.  Must be >=2 and >= number of categories for any categorical feature.'): 80},\n",
       " {Param(parent='DecisionTreeClassifier_d5df6ba4f461', name='maxDepth', doc='Maximum depth of the tree. (>= 0) E.g., depth 0 means 1 leaf node; depth 1 means 1 internal node + 2 leaf nodes.'): 10,\n",
       "  Param(parent='DecisionTreeClassifier_d5df6ba4f461', name='maxBins', doc='Max number of bins for discretizing continuous features.  Must be >=2 and >= number of categories for any categorical feature.'): 100},\n",
       " {Param(parent='DecisionTreeClassifier_d5df6ba4f461', name='maxDepth', doc='Maximum depth of the tree. (>= 0) E.g., depth 0 means 1 leaf node; depth 1 means 1 internal node + 2 leaf nodes.'): 20,\n",
       "  Param(parent='DecisionTreeClassifier_d5df6ba4f461', name='maxBins', doc='Max number of bins for discretizing continuous features.  Must be >=2 and >= number of categories for any categorical feature.'): 10},\n",
       " {Param(parent='DecisionTreeClassifier_d5df6ba4f461', name='maxDepth', doc='Maximum depth of the tree. (>= 0) E.g., depth 0 means 1 leaf node; depth 1 means 1 internal node + 2 leaf nodes.'): 20,\n",
       "  Param(parent='DecisionTreeClassifier_d5df6ba4f461', name='maxBins', doc='Max number of bins for discretizing continuous features.  Must be >=2 and >= number of categories for any categorical feature.'): 20},\n",
       " {Param(parent='DecisionTreeClassifier_d5df6ba4f461', name='maxDepth', doc='Maximum depth of the tree. (>= 0) E.g., depth 0 means 1 leaf node; depth 1 means 1 internal node + 2 leaf nodes.'): 20,\n",
       "  Param(parent='DecisionTreeClassifier_d5df6ba4f461', name='maxBins', doc='Max number of bins for discretizing continuous features.  Must be >=2 and >= number of categories for any categorical feature.'): 40},\n",
       " {Param(parent='DecisionTreeClassifier_d5df6ba4f461', name='maxDepth', doc='Maximum depth of the tree. (>= 0) E.g., depth 0 means 1 leaf node; depth 1 means 1 internal node + 2 leaf nodes.'): 20,\n",
       "  Param(parent='DecisionTreeClassifier_d5df6ba4f461', name='maxBins', doc='Max number of bins for discretizing continuous features.  Must be >=2 and >= number of categories for any categorical feature.'): 80},\n",
       " {Param(parent='DecisionTreeClassifier_d5df6ba4f461', name='maxDepth', doc='Maximum depth of the tree. (>= 0) E.g., depth 0 means 1 leaf node; depth 1 means 1 internal node + 2 leaf nodes.'): 20,\n",
       "  Param(parent='DecisionTreeClassifier_d5df6ba4f461', name='maxBins', doc='Max number of bins for discretizing continuous features.  Must be >=2 and >= number of categories for any categorical feature.'): 100},\n",
       " {Param(parent='DecisionTreeClassifier_d5df6ba4f461', name='maxDepth', doc='Maximum depth of the tree. (>= 0) E.g., depth 0 means 1 leaf node; depth 1 means 1 internal node + 2 leaf nodes.'): 30,\n",
       "  Param(parent='DecisionTreeClassifier_d5df6ba4f461', name='maxBins', doc='Max number of bins for discretizing continuous features.  Must be >=2 and >= number of categories for any categorical feature.'): 10},\n",
       " {Param(parent='DecisionTreeClassifier_d5df6ba4f461', name='maxDepth', doc='Maximum depth of the tree. (>= 0) E.g., depth 0 means 1 leaf node; depth 1 means 1 internal node + 2 leaf nodes.'): 30,\n",
       "  Param(parent='DecisionTreeClassifier_d5df6ba4f461', name='maxBins', doc='Max number of bins for discretizing continuous features.  Must be >=2 and >= number of categories for any categorical feature.'): 20},\n",
       " {Param(parent='DecisionTreeClassifier_d5df6ba4f461', name='maxDepth', doc='Maximum depth of the tree. (>= 0) E.g., depth 0 means 1 leaf node; depth 1 means 1 internal node + 2 leaf nodes.'): 30,\n",
       "  Param(parent='DecisionTreeClassifier_d5df6ba4f461', name='maxBins', doc='Max number of bins for discretizing continuous features.  Must be >=2 and >= number of categories for any categorical feature.'): 40},\n",
       " {Param(parent='DecisionTreeClassifier_d5df6ba4f461', name='maxDepth', doc='Maximum depth of the tree. (>= 0) E.g., depth 0 means 1 leaf node; depth 1 means 1 internal node + 2 leaf nodes.'): 30,\n",
       "  Param(parent='DecisionTreeClassifier_d5df6ba4f461', name='maxBins', doc='Max number of bins for discretizing continuous features.  Must be >=2 and >= number of categories for any categorical feature.'): 80},\n",
       " {Param(parent='DecisionTreeClassifier_d5df6ba4f461', name='maxDepth', doc='Maximum depth of the tree. (>= 0) E.g., depth 0 means 1 leaf node; depth 1 means 1 internal node + 2 leaf nodes.'): 30,\n",
       "  Param(parent='DecisionTreeClassifier_d5df6ba4f461', name='maxBins', doc='Max number of bins for discretizing continuous features.  Must be >=2 and >= number of categories for any categorical feature.'): 100}]"
      ]
     },
     "execution_count": 213,
     "metadata": {},
     "output_type": "execute_result"
    }
   ],
   "source": [
    "cvModel.getEstimatorParamMaps()"
   ]
  },
  {
   "cell_type": "code",
   "execution_count": 214,
   "metadata": {},
   "outputs": [
    {
     "data": {
      "text/plain": [
       "{Param(parent='DecisionTreeClassifier_d5df6ba4f461', name='maxDepth', doc='Maximum depth of the tree. (>= 0) E.g., depth 0 means 1 leaf node; depth 1 means 1 internal node + 2 leaf nodes.'): 10,\n",
       " Param(parent='DecisionTreeClassifier_d5df6ba4f461', name='maxBins', doc='Max number of bins for discretizing continuous features.  Must be >=2 and >= number of categories for any categorical feature.'): 20}"
      ]
     },
     "execution_count": 214,
     "metadata": {},
     "output_type": "execute_result"
    }
   ],
   "source": [
    "# Best Model\n",
    "\n",
    "cvModel.getEstimatorParamMaps()[ np.argmax(cvModel.avgMetrics) ]"
   ]
  },
  {
   "cell_type": "code",
   "execution_count": null,
   "metadata": {},
   "outputs": [],
   "source": []
  },
  {
   "cell_type": "code",
   "execution_count": null,
   "metadata": {},
   "outputs": [],
   "source": []
  }
 ],
 "metadata": {
  "kernelspec": {
   "display_name": "Python 3",
   "language": "python",
   "name": "python3"
  },
  "language_info": {
   "codemirror_mode": {
    "name": "ipython",
    "version": 3
   },
   "file_extension": ".py",
   "mimetype": "text/x-python",
   "name": "python",
   "nbconvert_exporter": "python",
   "pygments_lexer": "ipython3",
   "version": "3.8.5"
  }
 },
 "nbformat": 4,
 "nbformat_minor": 4
}
